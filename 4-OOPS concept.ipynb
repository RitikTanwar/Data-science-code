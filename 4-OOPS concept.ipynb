{
 "cells": [
  {
   "cell_type": "markdown",
   "metadata": {},
   "source": [
    " ### OOPS stands on 4 pillars :\n",
    "    1.Encapsulation:-> whole data is encapsulted or combined into a single instance           called object\n",
    "    2.Abstraction:->They may be some operations or func we are using without actually         knowing its implementation\n",
    "    3.Inheritence:->Data is shared from one class to child class\n",
    "    4.Polymorphism:->Many forms i.e. one single func can be used in different forms\n"
   ]
  },
  {
   "cell_type": "code",
   "execution_count": 7,
   "metadata": {},
   "outputs": [],
   "source": [
    "# OOPS consist of two aspects:-\n",
    "# 1. CLASS:- The blueprint which tells what will be the properties of instance of that class\n",
    "# 2. OBJECT:- The instance of the class.\n",
    "# class Person:                    ->class ->pass is used for empty class\n",
    "#     pass\n",
    "# p= Person()                      -> Object of class\n",
    "# print(p)"
   ]
  },
  {
   "cell_type": "code",
   "execution_count": 3,
   "metadata": {},
   "outputs": [],
   "source": [
    "# Python treats everything as object be it int,float,list,class"
   ]
  },
  {
   "cell_type": "code",
   "execution_count": 4,
   "metadata": {},
   "outputs": [
    {
     "name": "stdout",
     "output_type": "stream",
     "text": [
      "True\n"
     ]
    }
   ],
   "source": [
    "a=1\n",
    "print(isinstance(a,object))"
   ]
  },
  {
   "cell_type": "code",
   "execution_count": 5,
   "metadata": {},
   "outputs": [
    {
     "name": "stdout",
     "output_type": "stream",
     "text": [
      "True\n"
     ]
    }
   ],
   "source": [
    "a=\"string\"\n",
    "print(isinstance(a,object))"
   ]
  },
  {
   "cell_type": "code",
   "execution_count": 6,
   "metadata": {},
   "outputs": [
    {
     "name": "stdout",
     "output_type": "stream",
     "text": [
      "True\n"
     ]
    }
   ],
   "source": [
    "a=[1,3,5,6]\n",
    "print(isinstance(a,object))"
   ]
  },
  {
   "cell_type": "code",
   "execution_count": 8,
   "metadata": {},
   "outputs": [
    {
     "name": "stdout",
     "output_type": "stream",
     "text": [
      "<__main__.Person object at 0x000001A68A855790>\n"
     ]
    }
   ],
   "source": [
    "class Person:                    #->class ->pass is used for empty class\n",
    "    pass\n",
    "p= Person()                      #-> Object of class\n",
    "print(p)"
   ]
  },
  {
   "cell_type": "code",
   "execution_count": null,
   "metadata": {},
   "outputs": [],
   "source": []
  },
  {
   "cell_type": "markdown",
   "metadata": {},
   "source": [
    "### Class with methods\n",
    "    class methods have only one difference from ordinary func - they must have extra     first name that has to be add to beginning of parameter list, but you do not give a value for this parameter when you call the method . Python will provide it.  That        particular variable refers to the object itself, and by convention,it is given the self."
   ]
  },
  {
   "cell_type": "code",
   "execution_count": 1,
   "metadata": {},
   "outputs": [
    {
     "name": "stdout",
     "output_type": "stream",
     "text": [
      "Hello , How are you ! Jatin\n"
     ]
    }
   ],
   "source": [
    "class Person:\n",
    "    def say_hi(self):\n",
    "        self.name=\"Jatin\"\n",
    "        print(\"Hello , How are you !\",self.name)\n",
    "\n",
    "p=Person()\n",
    "p.say_hi()"
   ]
  },
  {
   "cell_type": "markdown",
   "metadata": {},
   "source": [
    "<!-- The __init__ method -->"
   ]
  },
  {
   "cell_type": "code",
   "execution_count": 2,
   "metadata": {},
   "outputs": [],
   "source": [
    "# The __init__ method"
   ]
  },
  {
   "cell_type": "code",
   "execution_count": 3,
   "metadata": {},
   "outputs": [
    {
     "name": "stdout",
     "output_type": "stream",
     "text": [
      "Object is created\n"
     ]
    }
   ],
   "source": [
    "class Person:\n",
    "    def __init__(self):    #a constructor or a hook which operates when class is called\n",
    "        print(\"Object is created\")\n",
    "        pass\n",
    "    \n",
    "p=Person()"
   ]
  },
  {
   "cell_type": "code",
   "execution_count": 4,
   "metadata": {},
   "outputs": [
    {
     "name": "stdout",
     "output_type": "stream",
     "text": [
      "Hello , How are you ! rahul\n"
     ]
    }
   ],
   "source": [
    "# It is used to give argument from outside as:\n",
    "class Person:\n",
    "    def __init__(self,name):    \n",
    "        self.name=name\n",
    "        pass\n",
    "    def say_hi(self):\n",
    "        print(\"Hello , How are you !\",self.name)\n",
    "p=Person(\"rahul\")\n",
    "p.say_hi()"
   ]
  },
  {
   "cell_type": "code",
   "execution_count": null,
   "metadata": {},
   "outputs": [],
   "source": [
    "  "
   ]
  },
  {
   "cell_type": "code",
   "execution_count": null,
   "metadata": {},
   "outputs": [],
   "source": []
  },
  {
   "cell_type": "markdown",
   "metadata": {},
   "source": [
    "## Dunders or Magic method\n",
    "    Provides us interface or hooks in which we can apply ours individuals functionality"
   ]
  },
  {
   "cell_type": "code",
   "execution_count": 5,
   "metadata": {},
   "outputs": [],
   "source": [
    "# Events in life cycle of object:\n",
    "# 1. Created\n",
    "# 2. Deleted\n",
    "# 3. Add\n",
    "# 4. Subtract\n",
    "# 5. String manipulation\n",
    "\n",
    "# => Python provides hooks for these events as:\n",
    "# * __init__(self,...)         -> when object is created\n",
    "# * __del__(self)              -> deletes the object\n",
    "# * __add__(self,other)        ->a+b==__add__(a.b)\n",
    "#  *__str__(self)              -> converts the object into strings\n"
   ]
  },
  {
   "cell_type": "code",
   "execution_count": 1,
   "metadata": {},
   "outputs": [],
   "source": [
    "class Car:\n",
    "    def __init__(self,model,mileage):\n",
    "        self.model=model\n",
    "        self.mileage=mileage\n",
    "        \n",
    "    def __str__(self):\n",
    "        return f\"{self.model}\"\n",
    "    \n",
    "    def __repr__(self):\n",
    "        return \"{}\".format(self.mileage)\n",
    "    \n",
    "    def __eq__(self,other):\n",
    "        return self.mileage==other.mileage\n",
    "    \n",
    "    def __add__(self,other):\n",
    "        return self.mileage + other.mileage"
   ]
  },
  {
   "cell_type": "code",
   "execution_count": 2,
   "metadata": {},
   "outputs": [],
   "source": [
    "c1=Car('a',2)\n",
    "c2=Car('b',3)"
   ]
  },
  {
   "cell_type": "code",
   "execution_count": 9,
   "metadata": {},
   "outputs": [
    {
     "data": {
      "text/plain": [
       "5"
      ]
     },
     "execution_count": 9,
     "metadata": {},
     "output_type": "execute_result"
    }
   ],
   "source": [
    "c1+c2"
   ]
  },
  {
   "cell_type": "code",
   "execution_count": 10,
   "metadata": {},
   "outputs": [
    {
     "data": {
      "text/plain": [
       "False"
      ]
     },
     "execution_count": 10,
     "metadata": {},
     "output_type": "execute_result"
    }
   ],
   "source": [
    "c1==c2"
   ]
  },
  {
   "cell_type": "code",
   "execution_count": 3,
   "metadata": {},
   "outputs": [
    {
     "data": {
      "text/plain": [
       "'a'"
      ]
     },
     "execution_count": 3,
     "metadata": {},
     "output_type": "execute_result"
    }
   ],
   "source": [
    "c1.__str__()"
   ]
  },
  {
   "cell_type": "code",
   "execution_count": 12,
   "metadata": {},
   "outputs": [],
   "source": [
    "# print cout<<\"jatin\"<<\"katyal\"->using python class\n"
   ]
  },
  {
   "cell_type": "code",
   "execution_count": 5,
   "metadata": {},
   "outputs": [],
   "source": [
    "class Ostream:\n",
    "    def __lshift__(self,other):\n",
    "        print(other,end='')\n",
    "        return self\n",
    "cout=Ostream()"
   ]
  },
  {
   "cell_type": "code",
   "execution_count": 6,
   "metadata": {},
   "outputs": [
    {
     "name": "stdout",
     "output_type": "stream",
     "text": [
      "jatin katyal"
     ]
    },
    {
     "data": {
      "text/plain": [
       "<__main__.Ostream at 0x18b3205d6d0>"
      ]
     },
     "execution_count": 6,
     "metadata": {},
     "output_type": "execute_result"
    }
   ],
   "source": [
    "cout<<\"jatin\"<<\" \"<<\"katyal\""
   ]
  },
  {
   "cell_type": "code",
   "execution_count": null,
   "metadata": {},
   "outputs": [],
   "source": []
  },
  {
   "cell_type": "code",
   "execution_count": null,
   "metadata": {},
   "outputs": [],
   "source": []
  },
  {
   "cell_type": "code",
   "execution_count": 23,
   "metadata": {},
   "outputs": [],
   "source": [
    "class Dogs:\n",
    "    tricks=[]  #List -> immutable DS\n",
    "    def __init__(self,name):\n",
    "        self.name=name\n",
    "        \n",
    "    def addtricks(self,trick):\n",
    "        self.tricks.append(trick)"
   ]
  },
  {
   "cell_type": "code",
   "execution_count": 24,
   "metadata": {},
   "outputs": [],
   "source": [
    "a=Dogs('Bruno')"
   ]
  },
  {
   "cell_type": "code",
   "execution_count": 25,
   "metadata": {},
   "outputs": [],
   "source": [
    "a.addtricks('Jump')"
   ]
  },
  {
   "cell_type": "code",
   "execution_count": 26,
   "metadata": {},
   "outputs": [],
   "source": [
    "a.addtricks('Run')"
   ]
  },
  {
   "cell_type": "code",
   "execution_count": 28,
   "metadata": {},
   "outputs": [],
   "source": [
    "a.addtricks('Bite')"
   ]
  },
  {
   "cell_type": "code",
   "execution_count": 29,
   "metadata": {},
   "outputs": [
    {
     "data": {
      "text/plain": [
       "['Jump', 'Run', 'Bite']"
      ]
     },
     "execution_count": 29,
     "metadata": {},
     "output_type": "execute_result"
    }
   ],
   "source": [
    "a.tricks"
   ]
  },
  {
   "cell_type": "code",
   "execution_count": 30,
   "metadata": {},
   "outputs": [],
   "source": [
    "b=Dogs('Tiger')"
   ]
  },
  {
   "cell_type": "code",
   "execution_count": 32,
   "metadata": {},
   "outputs": [
    {
     "data": {
      "text/plain": [
       "['Jump', 'Run', 'Bite']"
      ]
     },
     "execution_count": 32,
     "metadata": {},
     "output_type": "execute_result"
    }
   ],
   "source": [
    "b.tricks"
   ]
  },
  {
   "cell_type": "code",
   "execution_count": 33,
   "metadata": {},
   "outputs": [
    {
     "data": {
      "text/plain": [
       "['Jump', 'Run', 'Bite']"
      ]
     },
     "execution_count": 33,
     "metadata": {},
     "output_type": "execute_result"
    }
   ],
   "source": [
    "# Here we can see that dog b has automatically learned the three tricks which is not provided to it\n",
    "# This is because we have made a list for the entire dog class i.e. each and every member of dog class\n",
    "# will exhibit this property\n",
    "Dogs.tricks"
   ]
  },
  {
   "cell_type": "code",
   "execution_count": 34,
   "metadata": {},
   "outputs": [],
   "source": [
    "# To avoid this we should tricks list in init func as:-\n",
    "class Dogs:\n",
    "    def __init__(self,name):\n",
    "        self.name=name\n",
    "        self.tricks=[]\n",
    "        \n",
    "    def addtricks(self,trick):\n",
    "        self.tricks.append(trick)"
   ]
  },
  {
   "cell_type": "code",
   "execution_count": 35,
   "metadata": {},
   "outputs": [],
   "source": [
    "a=Dogs('Bruno')"
   ]
  },
  {
   "cell_type": "code",
   "execution_count": 36,
   "metadata": {},
   "outputs": [],
   "source": [
    "a.addtricks('Jump')\n",
    "a.addtricks('Run')\n",
    "a.addtricks('Bites')"
   ]
  },
  {
   "cell_type": "code",
   "execution_count": 37,
   "metadata": {},
   "outputs": [
    {
     "data": {
      "text/plain": [
       "['Jump', 'Run', 'Bites']"
      ]
     },
     "execution_count": 37,
     "metadata": {},
     "output_type": "execute_result"
    }
   ],
   "source": [
    "a.tricks"
   ]
  },
  {
   "cell_type": "code",
   "execution_count": 38,
   "metadata": {},
   "outputs": [],
   "source": [
    "b=Dogs('Maxxx')"
   ]
  },
  {
   "cell_type": "code",
   "execution_count": 39,
   "metadata": {},
   "outputs": [
    {
     "data": {
      "text/plain": [
       "[]"
      ]
     },
     "execution_count": 39,
     "metadata": {},
     "output_type": "execute_result"
    }
   ],
   "source": [
    "b.tricks"
   ]
  },
  {
   "cell_type": "code",
   "execution_count": 41,
   "metadata": {},
   "outputs": [
    {
     "ename": "AttributeError",
     "evalue": "type object 'Dogs' has no attribute 'tricks'",
     "output_type": "error",
     "traceback": [
      "\u001b[1;31m---------------------------------------------------------------------------\u001b[0m",
      "\u001b[1;31mAttributeError\u001b[0m                            Traceback (most recent call last)",
      "\u001b[1;32m<ipython-input-41-1a853b6d972a>\u001b[0m in \u001b[0;36m<module>\u001b[1;34m\u001b[0m\n\u001b[1;32m----> 1\u001b[1;33m \u001b[0mDogs\u001b[0m\u001b[1;33m.\u001b[0m\u001b[0mtricks\u001b[0m\u001b[1;33m\u001b[0m\u001b[1;33m\u001b[0m\u001b[0m\n\u001b[0m",
      "\u001b[1;31mAttributeError\u001b[0m: type object 'Dogs' has no attribute 'tricks'"
     ]
    }
   ],
   "source": [
    "Dogs.tricks  # tricks is property of a particular dog not of dog class"
   ]
  },
  {
   "cell_type": "code",
   "execution_count": null,
   "metadata": {},
   "outputs": [],
   "source": []
  },
  {
   "cell_type": "code",
   "execution_count": null,
   "metadata": {},
   "outputs": [],
   "source": []
  },
  {
   "cell_type": "markdown",
   "metadata": {},
   "source": [
    "# Inheritance"
   ]
  },
  {
   "cell_type": "code",
   "execution_count": 5,
   "metadata": {},
   "outputs": [],
   "source": [
    "class SchoolMember:\n",
    "    def __init__(self,name,age):\n",
    "        self.name=name\n",
    "        self.age=age\n",
    "        print(f\"Initialised SchoolMember : {self.name}\")\n",
    "    \n",
    "    def tell(self):\n",
    "        print(f\"Name:{self.name} Age:{self.age}\")"
   ]
  },
  {
   "cell_type": "code",
   "execution_count": 6,
   "metadata": {},
   "outputs": [],
   "source": [
    "class Teacher(SchoolMember):\n",
    "    def __init__(self,name,age,salary):\n",
    "        SchoolMember.__init__(self,name,age)\n",
    "        self.salary=salary\n",
    "        print(f\"Initialised Teacher : {self.name}\")\n",
    "        \n",
    "    def tell(self):\n",
    "        SchoolMember.tell(self)\n",
    "        print(f\"Salary:{self.salary}\")"
   ]
  },
  {
   "cell_type": "code",
   "execution_count": 18,
   "metadata": {},
   "outputs": [],
   "source": [
    "class Student(SchoolMember):\n",
    "    def __init__(self,name,age,marks):\n",
    "        super().__init__(name,age) # super() goes to base class find the called function and run it\n",
    "        self.marks=marks\n",
    "        print(f\"Initialised Student : {self.name}\")\n",
    "        \n",
    "    def tell(self):\n",
    "        SchoolMember.tell(self)\n",
    "        print(f\"Salary:{self.marks}\")"
   ]
  },
  {
   "cell_type": "code",
   "execution_count": 19,
   "metadata": {},
   "outputs": [
    {
     "name": "stdout",
     "output_type": "stream",
     "text": [
      "Initialised SchoolMember : Mr Jatin\n",
      "Initialised Teacher : Mr Jatin\n",
      "Initialised SchoolMember : Ritik\n",
      "Initialised Student : Ritik\n"
     ]
    }
   ],
   "source": [
    "t=Teacher('Mr Jatin',30,75000)\n",
    "s=Student('Ritik',21,89)"
   ]
  },
  {
   "cell_type": "code",
   "execution_count": 20,
   "metadata": {},
   "outputs": [
    {
     "name": "stdout",
     "output_type": "stream",
     "text": [
      "Name:Mr Jatin Age:30\n",
      "Salary:75000\n",
      "Name:Ritik Age:21\n",
      "Salary:89\n"
     ]
    }
   ],
   "source": [
    "t.tell()\n",
    "s.tell()"
   ]
  },
  {
   "cell_type": "code",
   "execution_count": null,
   "metadata": {},
   "outputs": [],
   "source": [
    " "
   ]
  },
  {
   "cell_type": "code",
   "execution_count": null,
   "metadata": {},
   "outputs": [],
   "source": []
  },
  {
   "cell_type": "markdown",
   "metadata": {},
   "source": [
    "# METHOD RESOLUTION ORDER"
   ]
  },
  {
   "cell_type": "markdown",
   "metadata": {},
   "source": [
    "    In Diamond inheritance case like:\n",
    "                    A\n",
    "                  /   \\\n",
    "                 B     C\n",
    "                  \\     \\\n",
    "                   \\      D\n",
    "                    \\   /\n",
    "                      E\n",
    "     If D inherits a variable (say x) from both B and C then it will be an ambiguoud    situation which x is inherited by D .To resolve this python uses C3 linarisation.\n",
    "     "
   ]
  },
  {
   "cell_type": "code",
   "execution_count": 33,
   "metadata": {},
   "outputs": [],
   "source": [
    "# According to  C3 linaerization child class will access the value from that parent which is\n",
    "# traversed later or that value is accessed when all parents are being travesed\n",
    "class A:\n",
    "    pass\n",
    "class B(A):\n",
    "    x=5\n",
    "    pass\n",
    "class C(A):\n",
    "#     x=10\n",
    "    pass\n",
    "class D(C):\n",
    "    x=10\n",
    "    pass\n",
    "class E(D,B):     # class inherited first will be accessed for common variable\n",
    "    pass"
   ]
  },
  {
   "cell_type": "code",
   "execution_count": 34,
   "metadata": {},
   "outputs": [
    {
     "data": {
      "text/plain": [
       "10"
      ]
     },
     "execution_count": 34,
     "metadata": {},
     "output_type": "execute_result"
    }
   ],
   "source": [
    "E.x"
   ]
  },
  {
   "cell_type": "code",
   "execution_count": 32,
   "metadata": {},
   "outputs": [
    {
     "data": {
      "text/plain": [
       "(__main__.E, __main__.B, __main__.D, __main__.C, __main__.A, object)"
      ]
     },
     "execution_count": 32,
     "metadata": {},
     "output_type": "execute_result"
    }
   ],
   "source": [
    "E.__mro__  # to give of traversed"
   ]
  },
  {
   "cell_type": "code",
   "execution_count": null,
   "metadata": {},
   "outputs": [],
   "source": []
  }
 ],
 "metadata": {
  "kernelspec": {
   "display_name": "Python 3",
   "language": "python",
   "name": "python3"
  },
  "language_info": {
   "codemirror_mode": {
    "name": "ipython",
    "version": 3
   },
   "file_extension": ".py",
   "mimetype": "text/x-python",
   "name": "python",
   "nbconvert_exporter": "python",
   "pygments_lexer": "ipython3",
   "version": "3.9.1"
  }
 },
 "nbformat": 4,
 "nbformat_minor": 4
}
